{
 "cells": [
  {
   "cell_type": "code",
   "execution_count": 17,
   "metadata": {},
   "outputs": [
    {
     "name": "stdout",
     "output_type": "stream",
     "text": [
      "e\n",
      "E\n"
     ]
    }
   ],
   "source": [
    "s = \"lEeTcOdE\"\n",
    "w = []\n",
    "for char in s:\n",
    "    if char not in w:\n",
    "        w.append(char)\n",
    "w.sort(reverse=True)\n",
    "for char in w:\n",
    "    if char.lower() in w:\n",
    "        if char.upper() in w:\n",
    "            print(char)"
   ]
  }
 ],
 "metadata": {
  "kernelspec": {
   "display_name": "Python 3.11.4 64-bit",
   "language": "python",
   "name": "python3"
  },
  "language_info": {
   "codemirror_mode": {
    "name": "ipython",
    "version": 3
   },
   "file_extension": ".py",
   "mimetype": "text/x-python",
   "name": "python",
   "nbconvert_exporter": "python",
   "pygments_lexer": "ipython3",
   "version": "3.11.4"
  },
  "orig_nbformat": 4,
  "vscode": {
   "interpreter": {
    "hash": "c610c976cc9466b6ea9b15ba365ba9d7f1f0ad2bed73a73022eff746c04e171a"
   }
  }
 },
 "nbformat": 4,
 "nbformat_minor": 2
}
