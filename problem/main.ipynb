{
 "cells": [
  {
   "cell_type": "markdown",
   "metadata": {},
   "source": [
    "#OOP\n"
   ]
  },
  {
   "cell_type": "code",
   "execution_count": 92,
   "metadata": {},
   "outputs": [
    {
     "data": {
      "text/plain": [
       "2"
      ]
     },
     "execution_count": 92,
     "metadata": {},
     "output_type": "execute_result"
    }
   ],
   "source": [
    "class Up:\n",
    "    \n",
    "    \n",
    "    def __init__(self) -> None:\n",
    "        self.a = 23\n",
    "    @property\n",
    "    def show(self):\n",
    "        print(self.a)\n",
    "    \n",
    "    @show.setter\n",
    "    def show(self, new):\n",
    "        self.a = new\n",
    "\n",
    "        \n",
    "    @show.deleter\n",
    "    def show(self):\n",
    "        del self\n",
    "    def op(self):\n",
    "        print('opp')\n",
    "        pass\n",
    "o = Up()\n",
    "o.show = 2\n",
    "o.show\n"
   ]
  }
 ],
 "metadata": {
  "kernelspec": {
   "display_name": "Python 3.11.4 64-bit",
   "language": "python",
   "name": "python3"
  },
  "language_info": {
   "codemirror_mode": {
    "name": "ipython",
    "version": 3
   },
   "file_extension": ".py",
   "mimetype": "text/x-python",
   "name": "python",
   "nbconvert_exporter": "python",
   "pygments_lexer": "ipython3",
   "version": "3.11.4"
  },
  "orig_nbformat": 4,
  "vscode": {
   "interpreter": {
    "hash": "c610c976cc9466b6ea9b15ba365ba9d7f1f0ad2bed73a73022eff746c04e171a"
   }
  }
 },
 "nbformat": 4,
 "nbformat_minor": 2
}
