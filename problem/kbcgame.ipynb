{
 "cells": [
  {
   "cell_type": "code",
   "execution_count": 12,
   "metadata": {},
   "outputs": [],
   "source": [
    "import pygame\n",
    "import os\n",
    "import time\n",
    "os.environ['PYGAME_HIDE_SUPPORT_PROMPT'] = \"hide\"\n",
    "prize_money = [1000, 2000, 3000, 4000, 5000, 10000, 20000, 40000, 80000, 160000, 320000, 640000, 1250000, 2500000, 5000000, 10000000]\n",
    "questions = [\n",
    "    [\"What is the capital of India?\", \"A. New Delhi\", \"B. Mumbai\", \"C. Bangalore\", \"D. Kolkata\", \"A\"],\n",
    "    [\"Which planet is closest to the Sun?\", \"A. Venus\", \"B. Earth\", \"C. Mars\", \"D. Mercury\", \"D\"],\n",
    "    [\"What is the largest mammal in the world?\", \"A. Elephant\", \"B. Giraffe\", \"C. Blue Whale\", \"D. Lion\", \"C\"],\n",
    "    [\"What is the symbol for the element oxygen?\", \"A. O\", \"B. Ox\", \"C. Oxg\", \"D. O2\", \"A\"],\n",
    "    [\"Who wrote 'Harry Potter' series?\", \"A. J.R.R. Tolkien\", \"B. J.K. Rowling\", \"C. George Orwell\", \"D. Charles Dickens\", \"B\"],\n",
    "    [\"What is the national flower of Japan?\", \"A. Rose\", \"B. Sunflower\", \"C. Sakura (Cherry Blossom)\", \"D. Tulip\", \"C\"],\n",
    "    [\"What is the largest planet in our solar system?\", \"A. Earth\", \"B. Mars\", \"C. Jupiter\", \"D. Saturn\", \"C\"],\n",
    "    [\"Which gas do plants release during photosynthesis?\", \"A. Oxygen\", \"B. Carbon Dioxide\", \"C. Nitrogen\", \"D. Hydrogen\", \"A\"],\n",
    "    [\"In which year did Christopher Columbus discover America?\", \"A. 1492\", \"B. 1776\", \"C. 1066\", \"D. 1515\", \"A\"],\n",
    "    [\"Who is known as the 'Father of Modern Physics'?\", \"A. Isaac Newton\", \"B. Galileo Galilei\", \"C. Albert Einstein\", \"D. Johannes Kepler\", \"C\"],\n",
    "    [\"What is the chemical symbol for silver?\", \"A. S\", \"B. Si\", \"C. Ag\", \"D. Al\", \"C\"],\n",
    "    [\"Which novel opens with the line, 'It was the best of times, it was the worst of times'?\", \"A. War and Peace\", \"B. Pride and Prejudice\", \"C. Moby-Dick\", \"D. A Tale of Two Cities\", \"D\"],\n",
    "    [\"Who painted the Mona Lisa?\", \"A. Vincent van Gogh\", \"B. Leonardo da Vinci\", \"C. Pablo Picasso\", \"D. Michelangelo\", \"B\"],\n",
    "    [\"What is the currency of Australia?\", \"A. Euro\", \"B. Yen\", \"C. Dollar\", \"D. Peso\", \"C\"],\n",
    "    [\"Which gas makes soda fizzy?\", \"A. Oxygen\", \"B. Nitrogen\", \"C. Carbon Dioxide\", \"D. Helium\", \"C\"],\n",
    "    [\"Who is the author of '1984'?\", \"A. F. Scott Fitzgerald\", \"B. George Orwell\", \"C. Aldous Huxley\", \"D. Ernest Hemingway\", \"B\"],\n",
    "]"
   ]
  },
  {
   "cell_type": "code",
   "execution_count": 20,
   "metadata": {},
   "outputs": [],
   "source": [
    "# Playing the sounds\n",
    "def play_sound(sound_file):\n",
    "    pygame.init()\n",
    "    pygame.mixer.init()\n",
    "    pygame.mixer.music.load(sound_file)\n",
    "    pygame.mixer.music.play()"
   ]
  },
  {
   "cell_type": "code",
   "execution_count": 21,
   "metadata": {},
   "outputs": [],
   "source": [
    "def play():\n",
    "    play_sound('intro.mp3')\n",
    "    qnum = 0\n",
    "    money = 0\n",
    "    print('Welcome to KBC')\n",
    "    time.sleep(10)\n",
    "    while qnum<14:\n",
    "        play_sound('que.mp3')\n",
    "        time.sleep(2)\n",
    "        print(f'Question number {qnum+1} for {prize_money[qnum]} Rs \\n {questions[qnum][0]}\\n {questions[qnum][1]}\\t {questions[qnum][2]}\\n {questions[qnum][3]} \\t {questions[qnum][4]}')\n",
    "        user = input('Please Enter A, B, C or D')\n",
    "        if user==questions[qnum][5]:\n",
    "            print(f'Congratulations you won {prize_money[qnum]} Rs \\n')\n",
    "            money = prize_money[qnum]\n",
    "            qnum += 1\n",
    "        else:\n",
    "            print(f'Oh NO this is the wrong answer the correct answer is {questions[qnum][5]} \\n You won {money} Rs \\n Thank You for playing')\n",
    "            break"
   ]
  }
 ],
 "metadata": {
  "kernelspec": {
   "display_name": "Python 3.11.4 64-bit",
   "language": "python",
   "name": "python3"
  },
  "language_info": {
   "codemirror_mode": {
    "name": "ipython",
    "version": 3
   },
   "file_extension": ".py",
   "mimetype": "text/x-python",
   "name": "python",
   "nbconvert_exporter": "python",
   "pygments_lexer": "ipython3",
   "version": "3.11.4"
  },
  "orig_nbformat": 4,
  "vscode": {
   "interpreter": {
    "hash": "c610c976cc9466b6ea9b15ba365ba9d7f1f0ad2bed73a73022eff746c04e171a"
   }
  }
 },
 "nbformat": 4,
 "nbformat_minor": 2
}
